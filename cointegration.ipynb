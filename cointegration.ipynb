{
 "cells": [
  {
   "cell_type": "code",
   "execution_count": 1,
   "metadata": {},
   "outputs": [],
   "source": [
    "import warnings\n",
    "warnings.filterwarnings('ignore')"
   ]
  },
  {
   "cell_type": "code",
   "execution_count": 2,
   "metadata": {},
   "outputs": [],
   "source": [
    "from collections import Counter\n",
    "\n",
    "from time import time\n",
    "from pathlib import Path\n",
    "\n",
    "import numpy as np\n",
    "import pandas as pd\n",
    "from tqdm import tqdm\n",
    "\n",
    "from statsmodels.tsa.stattools import coint\n",
    "from statsmodels.tsa.vector_ar.vecm import coint_johansen\n",
    "from statsmodels.tsa.api import VAR\n",
    "\n",
    "import matplotlib.pyplot as plt\n",
    "import seaborn as sns"
   ]
  },
  {
   "cell_type": "code",
   "execution_count": 3,
   "metadata": {},
   "outputs": [],
   "source": [
    "DATA_PATH = r\"data\"\n",
    "UNIVERSE = DATA_PATH + r\"\\etfs_stocks_universe.h5\"\n",
    "ASSETS = DATA_PATH + r\"\\assets.h5\""
   ]
  },
  {
   "cell_type": "code",
   "execution_count": 5,
   "metadata": {},
   "outputs": [],
   "source": [
    "with pd.HDFStore(UNIVERSE) as store:\n",
    "    etfs = store['etfs']\n",
    "    stocks = store['stocks']"
   ]
  },
  {
   "cell_type": "code",
   "execution_count": 4,
   "metadata": {},
   "outputs": [],
   "source": [
    "def test_cointegration(etfs, stocks, test_end, lookback=2):\n",
    "    start = time()\n",
    "    results = []\n",
    "    test_start = test_end - pd.DateOffset(years=lookback) + pd.DateOffset(days=1)\n",
    "    etf_tickers = etfs.columns.tolist()\n",
    "    etf_data = etfs.loc[str(test_start):str(test_end)]\n",
    "\n",
    "    stock_tickers = stocks.columns.tolist()\n",
    "    stock_data = stocks.loc[str(test_start):str(test_end)]\n",
    "    n = len(etf_tickers) * len(stock_tickers)\n",
    "    j = 0\n",
    "    for i, s1 in enumerate(etf_tickers, 1):\n",
    "        for s2 in stock_tickers:\n",
    "            j += 1\n",
    "            if j % 1000 == 0:\n",
    "                print(f'\\t{j:5,.0f} ({j/n:3.1%}) | {time() - start:.2f}')\n",
    "            df = etf_data.loc[:, [s1]].dropna().join(stock_data.loc[:, [s2]].dropna(), how='inner')\n",
    "            with warnings.catch_warnings():\n",
    "                warnings.simplefilter('ignore')\n",
    "                var = VAR(df)\n",
    "                try:\n",
    "                    lags = var.select_order()\n",
    "                    result = [test_end, s1, s2]\n",
    "                    order = lags.selected_orders['aic']\n",
    "                    result += [coint(df[s1], df[s2], trend='c')[1], coint(df[s2], df[s1], trend='c')[1]]\n",
    "                except:\n",
    "                    continue\n",
    "\n",
    "            cj = coint_johansen(df, det_order=0, k_ar_diff=order)\n",
    "            result += (list(cj.lr1) + list(cj.lr2) + list(cj.evec[:, cj.ind[0]]))\n",
    "            results.append(result)\n",
    "    return results"
   ]
  },
  {
   "cell_type": "code",
   "execution_count": 7,
   "metadata": {},
   "outputs": [],
   "source": [
    "dates = stocks.loc['2017-12':'2023-12'].resample('Q').last().index"
   ]
  },
  {
   "cell_type": "code",
   "execution_count": null,
   "metadata": {},
   "outputs": [],
   "source": [
    "test_results = []\n",
    "columns = ['test_end', 's1', 's2', 'eg1', 'eg2',\n",
    "           'trace0', 'trace1', 'eig0', 'eig1', 'w1', 'w2']\n",
    "\n",
    "for test_end in dates:\n",
    "    print(test_end)\n",
    "    result = test_cointegration(etfs, stocks, test_end=test_end)\n",
    "    test_results.append(pd.DataFrame(result, columns=columns))"
   ]
  },
  {
   "cell_type": "code",
   "execution_count": null,
   "metadata": {},
   "outputs": [],
   "source": [
    "test_results = pd.concat(test_results)\n",
    "test_results.to_hdf(DATA_PATH + \"\\backtest.h5\", \"cointegration_test\")"
   ]
  },
  {
   "cell_type": "code",
   "execution_count": null,
   "metadata": {},
   "outputs": [],
   "source": []
  },
  {
   "cell_type": "code",
   "execution_count": null,
   "metadata": {},
   "outputs": [],
   "source": []
  }
 ],
 "metadata": {
  "kernelspec": {
   "display_name": "venv",
   "language": "python",
   "name": "python3"
  },
  "language_info": {
   "codemirror_mode": {
    "name": "ipython",
    "version": 3
   },
   "file_extension": ".py",
   "mimetype": "text/x-python",
   "name": "python",
   "nbconvert_exporter": "python",
   "pygments_lexer": "ipython3",
   "version": "3.10.9"
  }
 },
 "nbformat": 4,
 "nbformat_minor": 2
}
