{
 "cells": [
  {
   "cell_type": "code",
   "execution_count": 1,
   "metadata": {},
   "outputs": [],
   "source": [
    "import warnings\n",
    "warnings.filterwarnings('ignore')"
   ]
  },
  {
   "cell_type": "code",
   "execution_count": 2,
   "metadata": {},
   "outputs": [],
   "source": [
    "import numpy as np\n",
    "import pandas as pd\n",
    "import matplotlib.pyplot as plt\n",
    "import seaborn as sns\n",
    "\n",
    "from src.kalman_filters import get_spread"
   ]
  },
  {
   "cell_type": "code",
   "execution_count": 3,
   "metadata": {},
   "outputs": [],
   "source": [
    "DATA_PATH = r\"data\"\n",
    "BACKTEST =  DATA_PATH + r\"\\backtest.h5\"\n",
    "UNIVERSE = DATA_PATH + r\"\\etfs_stocks_universe.h5\"\n",
    "ASSETS = DATA_PATH + r\"\\assets.h5\""
   ]
  },
  {
   "cell_type": "code",
   "execution_count": 4,
   "metadata": {},
   "outputs": [],
   "source": [
    "with pd.HDFStore(BACKTEST) as store:\n",
    "    candidates = store['candidates']\n",
    "    prices = store['prices']"
   ]
  },
  {
   "cell_type": "code",
   "execution_count": 5,
   "metadata": {},
   "outputs": [],
   "source": [
    "with pd.HDFStore(UNIVERSE) as store:\n",
    "    etfs = store['etfs']\n",
    "    stocks = store['stocks']"
   ]
  },
  {
   "cell_type": "code",
   "execution_count": 7,
   "metadata": {},
   "outputs": [
    {
     "data": {
      "text/plain": [
       "<DatetimeArray>\n",
       "['2017-12-31 00:00:00', '2018-03-31 00:00:00', '2018-06-30 00:00:00',\n",
       " '2018-09-30 00:00:00', '2018-12-31 00:00:00', '2019-03-31 00:00:00',\n",
       " '2019-06-30 00:00:00', '2019-09-30 00:00:00', '2019-12-31 00:00:00',\n",
       " '2020-03-31 00:00:00', '2020-06-30 00:00:00', '2020-09-30 00:00:00',\n",
       " '2020-12-31 00:00:00', '2021-03-31 00:00:00', '2021-06-30 00:00:00',\n",
       " '2021-09-30 00:00:00', '2021-12-31 00:00:00', '2022-03-31 00:00:00',\n",
       " '2022-06-30 00:00:00', '2022-09-30 00:00:00', '2022-12-31 00:00:00',\n",
       " '2023-03-31 00:00:00', '2023-06-30 00:00:00', '2023-09-30 00:00:00',\n",
       " '2023-12-31 00:00:00']\n",
       "Length: 25, dtype: datetime64[ns]"
      ]
     },
     "execution_count": 7,
     "metadata": {},
     "output_type": "execute_result"
    }
   ],
   "source": [
    "candidates['test_end'].unique()"
   ]
  },
  {
   "cell_type": "code",
   "execution_count": 110,
   "metadata": {},
   "outputs": [],
   "source": [
    "# candidates_sub = candidates[(candidates['test_end'] >= '2022-12-31') & (candidates['test_end'] < '2023-12-31')].sort_index()\n",
    "candidates_sub = candidates\n",
    "candidates_sub = candidates_sub.sort_values(['test_end','eg']).groupby(['test_end']).head(10)\n",
    "top_pairs = candidates_sub.drop(['eg'], axis = 1)"
   ]
  },
  {
   "cell_type": "code",
   "execution_count": 111,
   "metadata": {},
   "outputs": [],
   "source": [
    "pairs, half_lives = get_spread(top_pairs, pd.concat([etfs, stocks], axis = 1))\n",
    "pairs_df = pd.concat(pairs)"
   ]
  },
  {
   "cell_type": "code",
   "execution_count": 116,
   "metadata": {},
   "outputs": [],
   "source": [
    "def get_trades(data):\n",
    "    pair_trades = []\n",
    "    for i, ((period, s1, s2), pair) in enumerate(data.groupby(['period','s1','s2']), 1):\n",
    "        first3m = pair.first('3M').index\n",
    "        last3m = pair.last('3M').index\n",
    "\n",
    "        entry = ((pair['z_score'].abs() > 2) & (np.sign(pair['z_score'].shift().fillna(method = 'bfill')) == np.sign(pair['z_score'])))\n",
    "        entry = (entry.shift() != entry) * np.sign(pair['z_score']).fillna(0).astype(int) - 2\n",
    "        exit = (np.sign(pair['z_score'].shift().fillna(method = 'bfill')) != np.sign(pair['z_score'])).astype(int) - 1\n",
    "\n",
    "        trades = pd.concat((entry[entry != -2], exit[exit == 0])).to_frame('side').sort_values(['date','side']).squeeze()\n",
    "        if not isinstance(trades, pd.Series):\n",
    "            continue\n",
    "        \n",
    "        try:\n",
    "            trades.loc[trades < 0] += 2\n",
    "        except:\n",
    "            break\n",
    "        \n",
    "        trades = trades[trades.abs().shift() != trades.abs()]\n",
    "        window = trades.loc[first3m.min():first3m.max()]\n",
    "        extra = trades.loc[last3m.min():last3m.max()]\n",
    "        n = len(trades)\n",
    "\n",
    "        if window.iloc[0] == 0:\n",
    "            if n > 1:\n",
    "                print('shift')\n",
    "                window = window.iloc[1:]\n",
    "        if window.iloc[-1] != 0:\n",
    "            extra_exits = extra[extra == 0].head(1)\n",
    "            if extra_exits.empty:\n",
    "                continue\n",
    "            else:\n",
    "                window = pd.concat((window, extra_exits))\n",
    "\n",
    "        trades = pair[['s1', 's2', 'hedge_ratio', 'period', 'pair']].join(window.to_frame('side'), how = 'right')\n",
    "        trades.loc[trades.side == 0, 'hedge_ratio'] = np.nan\n",
    "        trades.hedge_ratio = trades.hedge_ratio.ffill()\n",
    "        pair_trades.append(trades)\n",
    "    return pd.concat(pair_trades)"
   ]
  },
  {
   "cell_type": "code",
   "execution_count": 117,
   "metadata": {},
   "outputs": [],
   "source": [
    "pair_trades = get_trades(pairs_df)"
   ]
  },
  {
   "cell_type": "code",
   "execution_count": 95,
   "metadata": {},
   "outputs": [
    {
     "data": {
      "text/plain": [
       "36.242130574386685"
      ]
     },
     "execution_count": 95,
     "metadata": {},
     "output_type": "execute_result"
    }
   ],
   "source": [
    "pair_trades['hedge_ratio'].max()"
   ]
  },
  {
   "cell_type": "code",
   "execution_count": 118,
   "metadata": {},
   "outputs": [
    {
     "data": {
      "text/html": [
       "<div>\n",
       "<style scoped>\n",
       "    .dataframe tbody tr th:only-of-type {\n",
       "        vertical-align: middle;\n",
       "    }\n",
       "\n",
       "    .dataframe tbody tr th {\n",
       "        vertical-align: top;\n",
       "    }\n",
       "\n",
       "    .dataframe thead th {\n",
       "        text-align: right;\n",
       "    }\n",
       "</style>\n",
       "<table border=\"1\" class=\"dataframe\">\n",
       "  <thead>\n",
       "    <tr style=\"text-align: right;\">\n",
       "      <th></th>\n",
       "      <th>s1</th>\n",
       "      <th>s2</th>\n",
       "      <th>hedge_ratio</th>\n",
       "      <th>period</th>\n",
       "      <th>pair</th>\n",
       "      <th>side</th>\n",
       "    </tr>\n",
       "    <tr>\n",
       "      <th>date</th>\n",
       "      <th></th>\n",
       "      <th></th>\n",
       "      <th></th>\n",
       "      <th></th>\n",
       "      <th></th>\n",
       "      <th></th>\n",
       "    </tr>\n",
       "  </thead>\n",
       "  <tbody>\n",
       "    <tr>\n",
       "      <th>2018-01-02</th>\n",
       "      <td>IBB.US</td>\n",
       "      <td>META.US</td>\n",
       "      <td>-0.591869</td>\n",
       "      <td>1</td>\n",
       "      <td>9</td>\n",
       "      <td>-1</td>\n",
       "    </tr>\n",
       "    <tr>\n",
       "      <th>2018-01-09</th>\n",
       "      <td>IBB.US</td>\n",
       "      <td>META.US</td>\n",
       "      <td>-0.591869</td>\n",
       "      <td>1</td>\n",
       "      <td>9</td>\n",
       "      <td>0</td>\n",
       "    </tr>\n",
       "    <tr>\n",
       "      <th>2018-01-12</th>\n",
       "      <td>IBB.US</td>\n",
       "      <td>META.US</td>\n",
       "      <td>-0.583952</td>\n",
       "      <td>1</td>\n",
       "      <td>9</td>\n",
       "      <td>1</td>\n",
       "    </tr>\n",
       "    <tr>\n",
       "      <th>2018-01-19</th>\n",
       "      <td>IBB.US</td>\n",
       "      <td>META.US</td>\n",
       "      <td>-0.583952</td>\n",
       "      <td>1</td>\n",
       "      <td>9</td>\n",
       "      <td>0</td>\n",
       "    </tr>\n",
       "    <tr>\n",
       "      <th>2018-03-02</th>\n",
       "      <td>IBB.US</td>\n",
       "      <td>META.US</td>\n",
       "      <td>-0.597353</td>\n",
       "      <td>1</td>\n",
       "      <td>9</td>\n",
       "      <td>1</td>\n",
       "    </tr>\n",
       "    <tr>\n",
       "      <th>2018-03-07</th>\n",
       "      <td>IBB.US</td>\n",
       "      <td>META.US</td>\n",
       "      <td>-0.597353</td>\n",
       "      <td>1</td>\n",
       "      <td>9</td>\n",
       "      <td>0</td>\n",
       "    </tr>\n",
       "  </tbody>\n",
       "</table>\n",
       "</div>"
      ],
      "text/plain": [
       "                s1       s2  hedge_ratio  period  pair  side\n",
       "date                                                        \n",
       "2018-01-02  IBB.US  META.US    -0.591869       1     9    -1\n",
       "2018-01-09  IBB.US  META.US    -0.591869       1     9     0\n",
       "2018-01-12  IBB.US  META.US    -0.583952       1     9     1\n",
       "2018-01-19  IBB.US  META.US    -0.583952       1     9     0\n",
       "2018-03-02  IBB.US  META.US    -0.597353       1     9     1\n",
       "2018-03-07  IBB.US  META.US    -0.597353       1     9     0"
      ]
     },
     "execution_count": 118,
     "metadata": {},
     "output_type": "execute_result"
    }
   ],
   "source": [
    "pair_trades[(pair_trades['s1'] == 'IBB.US') & (pair_trades['s2'] == 'META.US') ]"
   ]
  },
  {
   "cell_type": "code",
   "execution_count": 119,
   "metadata": {},
   "outputs": [],
   "source": [
    "pair_trades.to_hdf('data/backtest.h5','test_mult3/trades')"
   ]
  }
 ],
 "metadata": {
  "kernelspec": {
   "display_name": "venv",
   "language": "python",
   "name": "python3"
  },
  "language_info": {
   "codemirror_mode": {
    "name": "ipython",
    "version": 3
   },
   "file_extension": ".py",
   "mimetype": "text/x-python",
   "name": "python",
   "nbconvert_exporter": "python",
   "pygments_lexer": "ipython3",
   "version": "3.10.9"
  }
 },
 "nbformat": 4,
 "nbformat_minor": 2
}
